{
 "cells": [
  {
   "cell_type": "code",
   "execution_count": 4,
   "id": "a32bf980-c9fc-4dea-9666-679bcee51882",
   "metadata": {},
   "outputs": [],
   "source": [
    "import smtplib\n",
    "from email.message import EmailMessage\n",
    "from email.utils import formataddr\n",
    "from email.mime.text import MIMEText\n",
    "from email.mime.multipart import MIMEMultipart\n",
    "from email.mime.application import MIMEApplication\n",
    "\n",
    "def send_email(to_email, subject, text_content, html_content, attachments=None):\n",
    "    # Set up the server\n",
    "    smtp_server = 'localhost'\n",
    "    smtp_port = 1025  # Default MailHog SMTP port\n",
    "\n",
    "    from_email = 'your_email@example.com'\n",
    "    from_name = 'Your Name'\n",
    "\n",
    "    # Create the email message\n",
    "    msg = MIMEMultipart('alternative')\n",
    "    msg['From'] = formataddr((from_name, from_email))\n",
    "    msg['To'] = to_email\n",
    "    msg['Subject'] = subject\n",
    "\n",
    "    # Attach the plain text and HTML content to the email\n",
    "    msg.attach(MIMEText(text_content, 'plain'))\n",
    "    msg.attach(MIMEText(html_content, 'html'))\n",
    "\n",
    "    # Attach any files specified in the attachments list\n",
    "    if attachments:\n",
    "        for attachment in attachments:\n",
    "            with open(attachment, 'rb') as f:\n",
    "                part = MIMEApplication(f.read(), Name=attachment)\n",
    "                part['Content-Disposition'] = f'attachment; filename=\"{attachment}\"'\n",
    "                msg.attach(part)\n",
    "\n",
    "    # Send the email\n",
    "    with smtplib.SMTP(smtp_server, smtp_port) as server:\n",
    "        server.sendmail(from_email, to_email, msg.as_string())\n",
    "\n",
    "# Example usage\n",
    "to_email = 'recipient@example.com'\n",
    "subject = 'Test Email'\n",
    "text_content = 'This is the plain text version of the email.'\n",
    "html_content = '<html><body><h1>This is the HTML version of the email.</h1></body></html>'\n",
    "attachments = ['/home/chris/Downloads/profile/violation.csv', '/home/chris/Downloads/profile/hand-shake.jpg']\n",
    "\n",
    "send_email(to_email, subject, text_content, html_content, attachments)\n"
   ]
  },
  {
   "cell_type": "code",
   "execution_count": null,
   "id": "92c8e5e4-c3e9-4593-9cbc-e084f885d23c",
   "metadata": {},
   "outputs": [],
   "source": []
  }
 ],
 "metadata": {
  "kernelspec": {
   "display_name": "Python 3 (ipykernel)",
   "language": "python",
   "name": "python3"
  },
  "language_info": {
   "codemirror_mode": {
    "name": "ipython",
    "version": 3
   },
   "file_extension": ".py",
   "mimetype": "text/x-python",
   "name": "python",
   "nbconvert_exporter": "python",
   "pygments_lexer": "ipython3",
   "version": "3.11.4"
  }
 },
 "nbformat": 4,
 "nbformat_minor": 5
}
